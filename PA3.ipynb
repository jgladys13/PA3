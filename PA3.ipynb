{
 "cells": [
  {
   "cell_type": "markdown",
   "id": "d75bc785",
   "metadata": {},
   "source": [
    "# Programming Assignment 3\n",
    "\n",
    "**Author: Joey Gladys**\n",
    "\n",
    "**Version 1.0**\n",
    "\n",
    "**Semester: Fall 2021**"
   ]
  },
  {
   "cell_type": "markdown",
   "id": "a2fca5be",
   "metadata": {},
   "source": [
    "## a."
   ]
  },
  {
   "cell_type": "code",
   "execution_count": 1,
   "id": "d5e2c423",
   "metadata": {},
   "outputs": [
    {
     "name": "stdout",
     "output_type": "stream",
     "text": [
      "Enter the length of Side A: 5\n",
      "Enter the length of Side B: 5\n",
      "Enter the length of Side C: 5\n",
      "The area of the triangle is approximately 10.825318 square units.\n",
      "The perimeter of the triangle is 15 linear units.\n",
      "\n",
      "Enter the length of Side A: 12\n",
      "Enter the length of Side B: 16\n",
      "Enter the length of Side C: 21\n",
      "The area of the triangle is approximately 95.451231 square units.\n",
      "The perimeter of the triangle is 49 linear units.\n",
      "\n",
      "area = calcArea()\n",
      "perimeter = calcPerimeter()\n",
      "The area of the triangle is approximately  0.433013 square units\n",
      "The area of the triangle is approximately 3 linear units.\n"
     ]
    }
   ],
   "source": [
    "from math import sqrt\n",
    "\n",
    "def calcArea(SideA=1, SideB=1, SideC=1):\n",
    "    s= (SideA+SideB+SideC)/2\n",
    "    Area = sqrt(s*(s-SideA)*(s-SideB)*(s-SideC))\n",
    "    return Area\n",
    "\n",
    "def calcPerimeter(SideA=1, SideB=1, SideC=1):\n",
    "    Perimeter = SideA + SideB + SideC\n",
    "    return Perimeter\n",
    "\n",
    "SideA = int(input(\"Enter the length of Side A: \"))\n",
    "SideB = int(input(\"Enter the length of Side B: \"))\n",
    "SideC = int(input(\"Enter the length of Side C: \"))\n",
    "print(\"The area of the triangle is approximately\", f'{calcArea(SideA,SideB,SideC):.6f} square units.')\n",
    "print(\"The perimeter of the triangle is\", calcPerimeter(SideA,SideB,SideC),\"linear units.\\n\")\n",
    "\n",
    "SideA = int(input(\"Enter the length of Side A: \"))\n",
    "SideB = int(input(\"Enter the length of Side B: \"))\n",
    "SideC = int(input(\"Enter the length of Side C: \"))\n",
    "print(\"The area of the triangle is approximately\", f'{calcArea(SideA,SideB,SideC):.6f} square units.')\n",
    "print(\"The perimeter of the triangle is\", calcPerimeter(SideA,SideB,SideC),\"linear units.\\n\")\n",
    "\n",
    "print('area = calcArea()')\n",
    "print('perimeter = calcPerimeter()')\n",
    "print('The area of the triangle is approximately', f' {calcArea():.6f} square units')\n",
    "print('The area of the triangle is approximately', calcPerimeter(),'linear units.')"
   ]
  },
  {
   "cell_type": "markdown",
   "id": "f3835f34",
   "metadata": {},
   "source": [
    "## b."
   ]
  },
  {
   "cell_type": "code",
   "execution_count": 2,
   "id": "a92144c9",
   "metadata": {},
   "outputs": [
    {
     "name": "stdout",
     "output_type": "stream",
     "text": [
      "Enter a random guess: 500\n",
      "Too low! Guess again\n",
      "Enter a random guess: 750\n",
      "Too high! Guess again.\n",
      "Enter a random guess: 700\n",
      "Too high! Guess again.\n",
      "Enter a random guess: 600\n",
      "Too low! Guess again\n",
      "Enter a random guess: 650\n",
      "Too low! Guess again\n",
      "Enter a random guess: 670\n",
      "Too low! Guess again\n",
      "Enter a random guess: 690\n",
      "Too high! Guess again.\n",
      "Enter a random guess: 685\n",
      "Too high! Guess again.\n",
      "Enter a random guess: 680\n",
      "Too low! Guess again\n",
      "Enter a random guess: 682\n",
      "Too high! Guess again.\n",
      "Enter a random guess: 681\n",
      "Correct!\n"
     ]
    }
   ],
   "source": [
    "from random import randint\n",
    "\n",
    "Random_num = randint(1,1000)\n",
    "evaluation = ''\n",
    "\n",
    "def evaluateGuess(User_num,Random_num):\n",
    "    if User_num > Random_num:\n",
    "        return ('Too high! Guess again.')\n",
    "    elif User_num < Random_num:\n",
    "        return('Too low! Guess again')\n",
    "    elif User_num == Random_num:\n",
    "        return('Correct!')\n",
    "    \n",
    "while evaluation != 'Correct!':\n",
    "    User_num = int(input('Enter a random guess: '))\n",
    "    evaluation = evaluateGuess(User_num, Random_num)\n",
    "    print(evaluation)"
   ]
  },
  {
   "cell_type": "markdown",
   "id": "52d9cb87",
   "metadata": {},
   "source": [
    "## c."
   ]
  },
  {
   "cell_type": "code",
   "execution_count": 3,
   "id": "d7713e30",
   "metadata": {},
   "outputs": [
    {
     "name": "stdout",
     "output_type": "stream",
     "text": [
      "The mean temperature for the past 7 days is 88.00 degrees F.\n",
      "The mean temperature for the past 5 days is 88.20 degrees F.\n",
      "The mean temperature for the past 2 days is 90.00 degrees F.\n"
     ]
    }
   ],
   "source": [
    "def meanTemp(*args):\n",
    "    total = 0\n",
    "    for x in args:\n",
    "        total += x\n",
    "        \n",
    "    days = len(args)\n",
    "    mean = total/days\n",
    "    \n",
    "    print(f'The mean temperature for the past {days} days is', f'{mean:.2f} degrees F.')\n",
    "    \n",
    "meanTemp(90,90,90,90,90,90,76)\n",
    "meanTemp(88,88,88,88,89)\n",
    "meanTemp(100,80)"
   ]
  }
 ],
 "metadata": {
  "kernelspec": {
   "display_name": "Python 3",
   "language": "python",
   "name": "python3"
  },
  "language_info": {
   "codemirror_mode": {
    "name": "ipython",
    "version": 3
   },
   "file_extension": ".py",
   "mimetype": "text/x-python",
   "name": "python",
   "nbconvert_exporter": "python",
   "pygments_lexer": "ipython3",
   "version": "3.8.8"
  }
 },
 "nbformat": 4,
 "nbformat_minor": 5
}
